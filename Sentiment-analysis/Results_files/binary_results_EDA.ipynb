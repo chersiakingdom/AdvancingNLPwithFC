{
 "cells": [
  {
   "cell_type": "code",
   "execution_count": 8,
   "metadata": {},
   "outputs": [],
   "source": [
    "filepath = \"./Predictions/Word_level/Config__WE_ET_EEG_norm_pred.csv\""
   ]
  },
  {
   "cell_type": "code",
   "execution_count": 9,
   "metadata": {
    "scrolled": true
   },
   "outputs": [],
   "source": [
    "import pandas as pd \n",
    "from sklearn.metrics import classification_report"
   ]
  },
  {
   "cell_type": "code",
   "execution_count": 10,
   "metadata": {
    "scrolled": true
   },
   "outputs": [],
   "source": [
    "file = pd.read_csv(filepath)"
   ]
  },
  {
   "cell_type": "code",
   "execution_count": 11,
   "metadata": {},
   "outputs": [
    {
     "name": "stdout",
     "output_type": "stream",
     "text": [
      "      Unnamed: 0  Predicted  Target  Sentence_n  \\\n",
      "0              0          2       2         205   \n",
      "1              1          2       1         366   \n",
      "2              2          1       0         379   \n",
      "3              3          0       0         119   \n",
      "4              4          1       0          43   \n",
      "...          ...        ...     ...         ...   \n",
      "5035          35          1       2          31   \n",
      "5036          36          2       2          73   \n",
      "5037          37          1       2         348   \n",
      "5038          38          1       1         321   \n",
      "5039          39          2       2         395   \n",
      "\n",
      "                                      Attention_weights  Fold          Time  \\\n",
      "0     [[14, 60, 37, 69, 33, 44, 34, 127, 81, 151, 12...     1  1.654177e+09   \n",
      "1     [[8, 7, 14, 23, 18, 47, 36, 44, 76, 83, 48, 53...     1  1.654177e+09   \n",
      "2     [[9, 7, 12, 24, 12, 22, 45, 35, 67, 64, 63, 41...     1  1.654177e+09   \n",
      "3     [[11, 10, 12, 18, 21, 26, 31, 28, 40, 50, 65, ...     1  1.654177e+09   \n",
      "4     [[18, 73, 71, 121, 130, 312, 7, 7, 7, 7, 7, 7,...     1  1.654177e+09   \n",
      "...                                                 ...   ...           ...   \n",
      "5035  [[26, 21, 180, 104, 48, 38, 13, 74, 40, 43, 16...    10  1.654182e+09   \n",
      "5036  [[5, 8, 272, 63, 60, 188, 13, 83, 45, 33, 19, ...    10  1.654182e+09   \n",
      "5037  [[20, 61, 134, 127, 44, 104, 195, 175, 58, 8, ...    10  1.654182e+09   \n",
      "5038  [[10, 43, 110, 127, 123, 124, 20, 93, 49, 19, ...    10  1.654182e+09   \n",
      "5039  [[53, 13, 49, 93, 187, 76, 50, 12, 165, 103, 1...    10  1.654182e+09   \n",
      "\n",
      "            Config_name   DATASETS_PATH  \\\n",
      "0     Config__WE_ET_EEG  data/sentences   \n",
      "1     Config__WE_ET_EEG  data/sentences   \n",
      "2     Config__WE_ET_EEG  data/sentences   \n",
      "3     Config__WE_ET_EEG  data/sentences   \n",
      "4     Config__WE_ET_EEG  data/sentences   \n",
      "...                 ...             ...   \n",
      "5035  Config__WE_ET_EEG  data/sentences   \n",
      "5036  Config__WE_ET_EEG  data/sentences   \n",
      "5037  Config__WE_ET_EEG  data/sentences   \n",
      "5038  Config__WE_ET_EEG  data/sentences   \n",
      "5039  Config__WE_ET_EEG  data/sentences   \n",
      "\n",
      "                                   WORD_EMBEDDINGS_PATH  ... L1_REG_LAMBDA  \\\n",
      "0     ./3TASK/embeddings/GoogleNews-vectors-negative...  ...           0.0   \n",
      "1     ./3TASK/embeddings/GoogleNews-vectors-negative...  ...           0.0   \n",
      "2     ./3TASK/embeddings/GoogleNews-vectors-negative...  ...           0.0   \n",
      "3     ./3TASK/embeddings/GoogleNews-vectors-negative...  ...           0.0   \n",
      "4     ./3TASK/embeddings/GoogleNews-vectors-negative...  ...           0.0   \n",
      "...                                                 ...  ...           ...   \n",
      "5035  ./3TASK/embeddings/GoogleNews-vectors-negative...  ...           0.0   \n",
      "5036  ./3TASK/embeddings/GoogleNews-vectors-negative...  ...           0.0   \n",
      "5037  ./3TASK/embeddings/GoogleNews-vectors-negative...  ...           0.0   \n",
      "5038  ./3TASK/embeddings/GoogleNews-vectors-negative...  ...           0.0   \n",
      "5039  ./3TASK/embeddings/GoogleNews-vectors-negative...  ...           0.0   \n",
      "\n",
      "      DROPOUT_KEEP_PROB  BATCH_SIZE NUM_EPOCHS  EVALUATE_EVERY  \\\n",
      "0                   0.5          32         10              10   \n",
      "1                   0.5          32         10              10   \n",
      "2                   0.5          32         10              10   \n",
      "3                   0.5          32         10              10   \n",
      "4                   0.5          32         10              10   \n",
      "...                 ...         ...        ...             ...   \n",
      "5035                0.5          32         10              10   \n",
      "5036                0.5          32         10              10   \n",
      "5037                0.5          32         10              10   \n",
      "5038                0.5          32         10              10   \n",
      "5039                0.5          32         10              10   \n",
      "\n",
      "      NUMBER_OF_CV_SPLITS PER_PROCESS_GPU_FRACTION  TF_DEVICE  \\\n",
      "0                      10                      0.5     /cpu:0   \n",
      "1                      10                      0.5     /cpu:0   \n",
      "2                      10                      0.5     /cpu:0   \n",
      "3                      10                      0.5     /cpu:0   \n",
      "4                      10                      0.5     /cpu:0   \n",
      "...                   ...                      ...        ...   \n",
      "5035                   10                      0.5     /cpu:0   \n",
      "5036                   10                      0.5     /cpu:0   \n",
      "5037                   10                      0.5     /cpu:0   \n",
      "5038                   10                      0.5     /cpu:0   \n",
      "5039                   10                      0.5     /cpu:0   \n",
      "\n",
      "      RESULTS_FILE_PATH  VERBOSE  \n",
      "0      ./Results_files/    False  \n",
      "1      ./Results_files/    False  \n",
      "2      ./Results_files/    False  \n",
      "3      ./Results_files/    False  \n",
      "4      ./Results_files/    False  \n",
      "...                 ...      ...  \n",
      "5035   ./Results_files/    False  \n",
      "5036   ./Results_files/    False  \n",
      "5037   ./Results_files/    False  \n",
      "5038   ./Results_files/    False  \n",
      "5039   ./Results_files/    False  \n",
      "\n",
      "[5040 rows x 41 columns]\n"
     ]
    }
   ],
   "source": [
    "print(file)"
   ]
  },
  {
   "cell_type": "code",
   "execution_count": 13,
   "metadata": {
    "scrolled": false
   },
   "outputs": [
    {
     "name": "stdout",
     "output_type": "stream",
     "text": [
      "              precision    recall  f1-score   support\n",
      "\n",
      " Negative(0)       0.59      0.53      0.56      1680\n",
      " Positive(1)       0.47      0.50      0.48      1680\n",
      "  Neutral(2)       0.69      0.74      0.71      1680\n",
      "\n",
      "    accuracy                           0.59      5040\n",
      "   macro avg       0.59      0.59      0.59      5040\n",
      "weighted avg       0.59      0.59      0.59      5040\n",
      "\n"
     ]
    }
   ],
   "source": [
    "y_pred = file[\"Predicted\"]\n",
    "y_true = file[\"Target\"]\n",
    "\n",
    "print(classification_report(y_true, y_pred, target_names = [\"Negative(0)\",\"Positive(1)\", \"Neutral(2)\"]))"
   ]
  },
  {
   "cell_type": "code",
   "execution_count": null,
   "metadata": {},
   "outputs": [],
   "source": []
  }
 ],
 "metadata": {
  "kernelspec": {
   "display_name": "Python 3",
   "language": "python",
   "name": "python3"
  },
  "language_info": {
   "codemirror_mode": {
    "name": "ipython",
    "version": 3
   },
   "file_extension": ".py",
   "mimetype": "text/x-python",
   "name": "python",
   "nbconvert_exporter": "python",
   "pygments_lexer": "ipython3",
   "version": "3.8.5"
  }
 },
 "nbformat": 4,
 "nbformat_minor": 4
}
