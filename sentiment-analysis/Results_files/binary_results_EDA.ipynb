{
 "cells": [
  {
   "cell_type": "code",
   "execution_count": 8,
   "metadata": {},
   "outputs": [],
   "source": [
    "filepath = \"./Predictions/Config__binary_WE_ET_EEG_pred.csv\""
   ]
  },
  {
   "cell_type": "code",
   "execution_count": 16,
   "metadata": {
    "scrolled": true
   },
   "outputs": [],
   "source": [
    "import pandas as pd \n",
    "from sklearn.metrics import classification_report"
   ]
  },
  {
   "cell_type": "code",
   "execution_count": 9,
   "metadata": {
    "scrolled": true
   },
   "outputs": [],
   "source": [
    "file = pd.read_csv(filepath)"
   ]
  },
  {
   "cell_type": "code",
   "execution_count": 10,
   "metadata": {},
   "outputs": [
    {
     "name": "stdout",
     "output_type": "stream",
     "text": [
      "      Unnamed: 0                                  Attention_weights  \\\n",
      "0              0  [[55, 83, 73, 92, 75, 52, 66, 71, 31, 12, 12, ...   \n",
      "1              1  [[17, 22, 35, 61, 38, 49, 41, 29, 34, 42, 40, ...   \n",
      "2              2  [[18, 23, 24, 22, 39, 39, 61, 79, 40, 45, 33, ...   \n",
      "3              3  [[74, 56, 64, 66, 48, 40, 39, 40, 40, 26, 39, ...   \n",
      "4              4  [[40, 25, 25, 41, 31, 42, 83, 69, 183, 79, 89,...   \n",
      "...          ...                                                ...   \n",
      "2235          22  [[6, 11, 24, 9, 27, 18, 16, 34, 13, 23, 8, 87,...   \n",
      "2236          23  [[8, 71, 283, 65, 44, 21, 201, 10, 143, 54, 13...   \n",
      "2237          24  [[5, 2, 8, 37, 36, 319, 152, 111, 61, 43, 22, ...   \n",
      "2238          25  [[7, 66, 5, 103, 194, 90, 248, 32, 156, 75, 0,...   \n",
      "2239          26  [[26, 47, 23, 279, 591, 0, 0, 0, 0, 0, 0, 0, 0...   \n",
      "\n",
      "      Predicted  Sentence_n  Target  Fold          Time  \\\n",
      "0             1          42       1     1  1.652421e+09   \n",
      "1             0          36       0     1  1.652421e+09   \n",
      "2             0          30       0     1  1.652421e+09   \n",
      "3             1           1       1     1  1.652421e+09   \n",
      "4             1           5       1     1  1.652421e+09   \n",
      "...         ...         ...     ...   ...           ...   \n",
      "2235          1         380       1    10  1.652422e+09   \n",
      "2236          0         368       0    10  1.652422e+09   \n",
      "2237          1         385       1    10  1.652422e+09   \n",
      "2238          0         392       0    10  1.652422e+09   \n",
      "2239          0         384       0    10  1.652422e+09   \n",
      "\n",
      "                   Config_name   DATASETS_PATH  \\\n",
      "0     Config__binary_WE_ET_EEG  data/sentences   \n",
      "1     Config__binary_WE_ET_EEG  data/sentences   \n",
      "2     Config__binary_WE_ET_EEG  data/sentences   \n",
      "3     Config__binary_WE_ET_EEG  data/sentences   \n",
      "4     Config__binary_WE_ET_EEG  data/sentences   \n",
      "...                        ...             ...   \n",
      "2235  Config__binary_WE_ET_EEG  data/sentences   \n",
      "2236  Config__binary_WE_ET_EEG  data/sentences   \n",
      "2237  Config__binary_WE_ET_EEG  data/sentences   \n",
      "2238  Config__binary_WE_ET_EEG  data/sentences   \n",
      "2239  Config__binary_WE_ET_EEG  data/sentences   \n",
      "\n",
      "                                   WORD_EMBEDDINGS_PATH  ... L1_REG_LAMBDA  \\\n",
      "0     ./3TASK/embeddings/GoogleNews-vectors-negative...  ...           0.0   \n",
      "1     ./3TASK/embeddings/GoogleNews-vectors-negative...  ...           0.0   \n",
      "2     ./3TASK/embeddings/GoogleNews-vectors-negative...  ...           0.0   \n",
      "3     ./3TASK/embeddings/GoogleNews-vectors-negative...  ...           0.0   \n",
      "4     ./3TASK/embeddings/GoogleNews-vectors-negative...  ...           0.0   \n",
      "...                                                 ...  ...           ...   \n",
      "2235  ./3TASK/embeddings/GoogleNews-vectors-negative...  ...           0.0   \n",
      "2236  ./3TASK/embeddings/GoogleNews-vectors-negative...  ...           0.0   \n",
      "2237  ./3TASK/embeddings/GoogleNews-vectors-negative...  ...           0.0   \n",
      "2238  ./3TASK/embeddings/GoogleNews-vectors-negative...  ...           0.0   \n",
      "2239  ./3TASK/embeddings/GoogleNews-vectors-negative...  ...           0.0   \n",
      "\n",
      "      DROPOUT_KEEP_PROB  BATCH_SIZE NUM_EPOCHS  EVALUATE_EVERY  \\\n",
      "0                   0.5          32         10              10   \n",
      "1                   0.5          32         10              10   \n",
      "2                   0.5          32         10              10   \n",
      "3                   0.5          32         10              10   \n",
      "4                   0.5          32         10              10   \n",
      "...                 ...         ...        ...             ...   \n",
      "2235                0.5          32         10              10   \n",
      "2236                0.5          32         10              10   \n",
      "2237                0.5          32         10              10   \n",
      "2238                0.5          32         10              10   \n",
      "2239                0.5          32         10              10   \n",
      "\n",
      "      NUMBER_OF_CV_SPLITS PER_PROCESS_GPU_FRACTION  TF_DEVICE  \\\n",
      "0                      10                      0.5     /cpu:0   \n",
      "1                      10                      0.5     /cpu:0   \n",
      "2                      10                      0.5     /cpu:0   \n",
      "3                      10                      0.5     /cpu:0   \n",
      "4                      10                      0.5     /cpu:0   \n",
      "...                   ...                      ...        ...   \n",
      "2235                   10                      0.5     /cpu:0   \n",
      "2236                   10                      0.5     /cpu:0   \n",
      "2237                   10                      0.5     /cpu:0   \n",
      "2238                   10                      0.5     /cpu:0   \n",
      "2239                   10                      0.5     /cpu:0   \n",
      "\n",
      "      RESULTS_FILE_PATH  VERBOSE  \n",
      "0      ./Results_files/    False  \n",
      "1      ./Results_files/    False  \n",
      "2      ./Results_files/    False  \n",
      "3      ./Results_files/    False  \n",
      "4      ./Results_files/    False  \n",
      "...                 ...      ...  \n",
      "2235   ./Results_files/    False  \n",
      "2236   ./Results_files/    False  \n",
      "2237   ./Results_files/    False  \n",
      "2238   ./Results_files/    False  \n",
      "2239   ./Results_files/    False  \n",
      "\n",
      "[2240 rows x 41 columns]\n"
     ]
    }
   ],
   "source": [
    "print(file)"
   ]
  },
  {
   "cell_type": "code",
   "execution_count": 21,
   "metadata": {
    "scrolled": false
   },
   "outputs": [
    {
     "name": "stdout",
     "output_type": "stream",
     "text": [
      "              precision    recall  f1-score   support\n",
      "\n",
      " Negative(0)       0.83      0.81      0.82      1120\n",
      " Positive(1)       0.81      0.84      0.83      1120\n",
      "\n",
      "    accuracy                           0.82      2240\n",
      "   macro avg       0.82      0.82      0.82      2240\n",
      "weighted avg       0.82      0.82      0.82      2240\n",
      "\n"
     ]
    }
   ],
   "source": [
    "y_pred = file[\"Predicted\"]\n",
    "y_true = file[\"Target\"]\n",
    "\n",
    "print(classification_report(y_true, y_pred, target_names = [\"Negative(0)\",\"Positive(1)\"]))"
   ]
  },
  {
   "cell_type": "code",
   "execution_count": null,
   "metadata": {},
   "outputs": [],
   "source": []
  }
 ],
 "metadata": {
  "kernelspec": {
   "display_name": "Python 3",
   "language": "python",
   "name": "python3"
  },
  "language_info": {
   "codemirror_mode": {
    "name": "ipython",
    "version": 3
   },
   "file_extension": ".py",
   "mimetype": "text/x-python",
   "name": "python",
   "nbconvert_exporter": "python",
   "pygments_lexer": "ipython3",
   "version": "3.8.5"
  }
 },
 "nbformat": 4,
 "nbformat_minor": 4
}
